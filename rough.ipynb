{
 "cells": [
  {
   "cell_type": "code",
   "id": "initial_id",
   "metadata": {
    "collapsed": true,
    "ExecuteTime": {
     "end_time": "2025-10-22T11:38:02.709461Z",
     "start_time": "2025-10-22T11:38:02.706801Z"
    }
   },
   "source": [
    "import yfinance as yf\n",
    "from typing import Annotated, TypedDict\n",
    "from langgraph.graph import StateGraph, START, END\n",
    "from langgraph.graph.message import add_messages\n",
    "from langchain_core.tools import tool\n",
    "from langgraph.prebuilt import ToolNode, tools_condition\n",
    "from langgraph.checkpoint.memory import MemorySaver\n",
    "from langgraph.types import interrupt, Command\n",
    "from dotenv import load_dotenv\n",
    "from IPython.display import Image, display\n",
    "from langchain_core.messages import SystemMessage\n",
    "from langchain_core.messages import HumanMessage"
   ],
   "outputs": [],
   "execution_count": 4
  },
  {
   "metadata": {
    "ExecuteTime": {
     "end_time": "2025-10-22T11:38:03.108042Z",
     "start_time": "2025-10-22T11:38:03.105158Z"
    }
   },
   "cell_type": "code",
   "source": [
    "# Loading environment variables\n",
    "load_dotenv()"
   ],
   "id": "9d223478946a7b77",
   "outputs": [
    {
     "data": {
      "text/plain": [
       "True"
      ]
     },
     "execution_count": 5,
     "metadata": {},
     "output_type": "execute_result"
    }
   ],
   "execution_count": 5
  },
  {
   "metadata": {
    "ExecuteTime": {
     "end_time": "2025-10-22T11:38:03.540323Z",
     "start_time": "2025-10-22T11:38:03.538628Z"
    }
   },
   "cell_type": "code",
   "source": [
    "# --- 1. Define the Agent State ---\n",
    "# The state includes a message history, user's portfolio and cash balance\n",
    "class PortfolioState(TypedDict):\n",
    "    messages: Annotated[list, add_messages]\n",
    "    portfolio: dict\n",
    "    cash_balance: float"
   ],
   "id": "ee4758d95edf5d64",
   "outputs": [],
   "execution_count": 6
  },
  {
   "metadata": {
    "ExecuteTime": {
     "end_time": "2025-10-22T12:12:17.827086Z",
     "start_time": "2025-10-22T12:12:17.814065Z"
    }
   },
   "cell_type": "code",
   "source": [
    "# --- 2. Define the Tools ---\n",
    "@tool\n",
    "def get_stock_price(symbol: str) -> float:\n",
    "    \"\"\"\n",
    "    Return the current price of a stock given its stock symbol (e.g., 'AAPL', 'MSFT'). \n",
    "    The model should look up the symbol if the user provides a company name (e.g., 'Apple').\n",
    "    \"\"\"\n",
    "    print('Getting the stock price')\n",
    "    try:\n",
    "        ticker = yf.Ticker(symbol)\n",
    "        # Fetch the current price\n",
    "        current_price = ticker.history(period=\"1d\")['Close'].iloc[-1]\n",
    "        return float(current_price)\n",
    "    except IndexError:\n",
    "        return f\"Error: Could not retrieve price for {symbol}. It might be an invalid symbol.\"\n",
    "    except Exception as e:\n",
    "        return f\"An error occurred: {e}\"\n",
    "\n",
    "@tool\n",
    "def deposit_cash(amount: float) -> str:\n",
    "    \"\"\"\n",
    "    Depositing the given cash amount into the portfolio.\n",
    "    \"\"\"\n",
    "    print('Depositing money in the tools function')\n",
    "    if amount <= 0:\n",
    "        return \"Deposit amount must be a positive number.\"\n",
    "    # Using interrupt to require human confirmation for a deposit\n",
    "    decision = interrupt(f\"Approve depositing ${amount:.2f}? yes/no\")\n",
    "    if decision.lower() == \"yes\":\n",
    "        # Include amount in the return message for the update_state_node\n",
    "        return f\"Simulating a deposit of ${amount:.2f}.\"\n",
    "    return \"Deposit declined.\"\n",
    "\n",
    "@tool\n",
    "def buy_stock(symbol: str, quantity: int) -> str:\n",
    "    \"\"\"\n",
    "    Buying the given quantity of stock for the given company (e.g., 'AAPL', 'MSFT'). \n",
    "    If the symbol is not given, look up the symbol for the company (e.g., 'Apple').\n",
    "    \"\"\"\n",
    "    print('Buying stock in the tools fucntion')\n",
    "    \n",
    "    # 1. Get Price and Handle Error\n",
    "    price_or_error = get_stock_price(symbol)\n",
    "    if isinstance(price_or_error, str):\n",
    "        return price_or_error\n",
    "    \n",
    "    total_cost = price_or_error * quantity\n",
    "\n",
    "    # 3. Human Interrupt\n",
    "    decision = interrupt(f\"Approve buying {quantity} {symbol} stocks for ${total_cost:.2f}? yes/no\")\n",
    "    if decision.lower() == \"yes\":\n",
    "        # Include cost for update_state_node\n",
    "        return f\"You bought {quantity} shares of {symbol} for a total price of {total_cost:.2f}.\"\n",
    "    return \"Buy order declined.\"\n",
    "\n",
    "@tool\n",
    "def sell_stock(symbol: str, quantity: int) -> str:\n",
    "    \"\"\"\n",
    "    Selling the given quantity of stock for the given company (e.g., 'AAPL', 'MSFT').\n",
    "    if the symbol is not given, look up the symbol for the company (e.g., 'Apple').\n",
    "    \"\"\"\n",
    "    print('Selling stock in the tools function')\n",
    "\n",
    "    # 2. Get Price for Interrupt Message\n",
    "    price_or_error = get_stock_price(symbol)\n",
    "    if isinstance(price_or_error, str):\n",
    "        return price_or_error\n",
    "        \n",
    "    total_cost = price_or_error * quantity\n",
    "\n",
    "    # 3. Human Interrupt\n",
    "    decision = interrupt(f\"Approve selling {quantity} shares of {symbol} for an estimated ${total_cost:.2f}? yes/no\")\n",
    "    if decision.lower() == \"yes\":\n",
    "        # Include proceeds for update_state_node\n",
    "        return f\"Simulating a sell order for {quantity} shares of {symbol} with proceeds of {total_cost:.2f}.\"\n",
    "    return \"Sell order declined.\"\n",
    "\n",
    "\n",
    "tools = [get_stock_price, deposit_cash, buy_stock, sell_stock]"
   ],
   "id": "3e586513aa5445fd",
   "outputs": [],
   "execution_count": 16
  },
  {
   "metadata": {
    "ExecuteTime": {
     "end_time": "2025-10-22T12:12:18.120956Z",
     "start_time": "2025-10-22T12:12:18.106661Z"
    }
   },
   "cell_type": "code",
   "source": [
    "# --- 3. Initialize the LLM and bind tools ---\n",
    "from langchain.chat_models import init_chat_model\n",
    "llm = init_chat_model(\"google_genai:gemini-2.0-flash\")\n",
    "llm_with_tools = llm.bind_tools(tools)"
   ],
   "id": "38b5c1e5853ad470",
   "outputs": [
    {
     "name": "stderr",
     "output_type": "stream",
     "text": [
      "E0000 00:00:1761135138.111018   74533 alts_credentials.cc:93] ALTS creds ignored. Not running on GCP and untrusted ALTS is not enabled.\n"
     ]
    }
   ],
   "execution_count": 17
  },
  {
   "metadata": {
    "ExecuteTime": {
     "end_time": "2025-10-22T12:12:18.402736Z",
     "start_time": "2025-10-22T12:12:18.395466Z"
    }
   },
   "cell_type": "code",
   "source": [
    "# --- 4. Define the Nodes of the Graph ---\n",
    "\n",
    "def chatbot_node(state: PortfolioState) -> PortfolioState:\n",
    "    return {'messages': [llm_with_tools.invoke(state['messages'])]}\n",
    "\n",
    "def update_state_node(state: PortfolioState) -> PortfolioState:\n",
    "    messages = state[\"messages\"]\n",
    "    tool_msg = messages[-1]   # ToolMessage (output)\n",
    "    ai_msg = messages[-2]     # AIMessage (tool call)\n",
    "\n",
    "    tool_name = tool_msg.name\n",
    "    tool_args = ai_msg.tool_calls[0][\"args\"]\n",
    "\n",
    "    updated_state = state.copy()\n",
    "    print('Updating the state in the update node')\n",
    "    \n",
    "    # 1. Check if the transaction was declined by the human interrupt\n",
    "    if \"declined\" in tool_msg.content.lower() or \"error\" in tool_msg.content.lower():\n",
    "        print(f\"Transaction for {tool_name} was declined or failed. State not updated.\")\n",
    "        return state # Return the original state without changes\n",
    "\n",
    "    # 2. Update state based on successful transaction\n",
    "    if tool_name == 'deposit_cash':\n",
    "        print('update cash in the state')\n",
    "        amount = tool_args[\"amount\"]\n",
    "        updated_state[\"cash_balance\"] = state.get(\"cash_balance\", 0.0) + amount\n",
    "        print(f\"State updated: Deposited ${amount:.2f}\")\n",
    "\n",
    "    elif tool_name == 'buy_stock':\n",
    "        symbol = tool_args[\"symbol\"]\n",
    "        quantity = tool_args[\"quantity\"]\n",
    "        \n",
    "        # Extract total cost from the tool's return message (a simple string search)\n",
    "        price_or_error = get_stock_price(symbol)\n",
    "        if isinstance(price_or_error, str):\n",
    "            return price_or_error\n",
    "            \n",
    "        total_cost = price_or_error * quantity\n",
    "        \n",
    "        updated_portfolio = state.get(\"portfolio\", {}).copy()\n",
    "        updated_portfolio[symbol] = updated_portfolio.get(symbol, 0) + quantity\n",
    "\n",
    "        updated_state[\"portfolio\"] = updated_portfolio\n",
    "        updated_state[\"cash_balance\"] = state.get(\"cash_balance\", 0.0) - total_cost\n",
    "        print(f'State updated: Bought {quantity} {symbol} for -${total_cost:.2f}')\n",
    "\n",
    "\n",
    "    elif tool_name == 'sell_stock':\n",
    "        symbol = tool_args[\"symbol\"]\n",
    "        quantity = tool_args[\"quantity\"]\n",
    "        \n",
    "        # Extract total proceeds from the tool's return message\n",
    "        price_or_error = get_stock_price(symbol)\n",
    "        if isinstance(price_or_error, str):\n",
    "            return price_or_error\n",
    "            \n",
    "        total_cost = price_or_error * quantity\n",
    "\n",
    "        updated_portfolio = state.get(\"portfolio\", {}).copy()\n",
    "        \n",
    "        # The eligibility check already passed, so we assume stock is available\n",
    "        updated_portfolio[symbol] = updated_portfolio.get(symbol, 0) - quantity\n",
    "        if updated_portfolio[symbol] <= 0:\n",
    "            del updated_portfolio[symbol]\n",
    "\n",
    "        updated_state[\"portfolio\"] = updated_portfolio\n",
    "        updated_state[\"cash_balance\"] = state.get(\"cash_balance\", 0.0) + total_cost\n",
    "        print(f'State updated: Sold {quantity} {symbol} for +${total_cost:.2f}')\n",
    "\n",
    "    return updated_state"
   ],
   "id": "5da7f00ea580e243",
   "outputs": [],
   "execution_count": 18
  },
  {
   "metadata": {
    "ExecuteTime": {
     "end_time": "2025-10-22T12:12:19.014561Z",
     "start_time": "2025-10-22T12:12:18.698926Z"
    }
   },
   "cell_type": "code",
   "source": [
    "# --- 5. Define the necessary Router Functions --- \n",
    "\n",
    "def check_transaction_eligibility(state: PortfolioState) -> str:\n",
    "    messages = state[\"messages\"]\n",
    "    ai_message = messages[-1] # This is now the LLM's tool-call request\n",
    "    tool_calls = ai_message.tool_calls\n",
    "\n",
    "    tc = tool_calls[0] # Assume one tool call per step\n",
    "    tool_name = tc['name']\n",
    "    \n",
    "    if tool_name == 'buy_stock':\n",
    "        symbol = tc['args']['symbol']\n",
    "        quantity = tc['args']['quantity']\n",
    "        price_or_error = get_stock_price(symbol)\n",
    "        \n",
    "        if isinstance(price_or_error, str) and \"Error\" in price_or_error:\n",
    "            # Add error message to state for chatbot to report\n",
    "            error_msg = f\"Error: Could not check eligibility for {symbol}. {price_or_error}\"\n",
    "            # state[\"messages\"].append({\"role\": \"system\", \"content\": error_msg})\n",
    "            print(error_msg)\n",
    "            return \"error\"\n",
    "            \n",
    "        total_cost = price_or_error * quantity\n",
    "        \n",
    "        if total_cost > state.get('cash_balance', 0.0):\n",
    "            # Add insufficient funds message to state for chatbot to report\n",
    "            error_msg = f\"Transaction check failed: Insufficient funds. Buying {quantity} {symbol} would cost ${total_cost:.2f}, but you only have ${state.get('cash_balance', 0.0):.2f} cash.\"\n",
    "            # state[\"messages\"].append(HumanMessage(content=error_msg))\n",
    "            print(error_msg)\n",
    "            # return \"insufficient_funds\"\n",
    "            return \"error\"\n",
    "        else:\n",
    "            return \"eligible_trade\"\n",
    "\n",
    "    elif tool_name == 'sell_stock':\n",
    "        symbol = tc['args']['symbol']\n",
    "        quantity = tc['args']['quantity']\n",
    "        \n",
    "        if quantity > state.get('portfolio', {}).get(symbol, 0):\n",
    "            # Add insufficient stock message to state for chatbot to report\n",
    "            error_msg = f\"Transaction check failed: Insufficient shares. You tried to sell {quantity} {symbol}, but you only own {state.get('portfolio', {}).get(symbol, 0)} shares.\"\n",
    "            # state[\"messages\"].append(HumanMessage(content=error_msg))\n",
    "            print(error_msg)\n",
    "            # return \"insufficient_stock\"\n",
    "            return \"error\"\n",
    "        else:\n",
    "            return \"eligible_trade\"\n",
    "            \n",
    "    elif tool_name == 'deposit_cash':\n",
    "        return 'eligible_trade'\n",
    "\n",
    "    elif tool_name == \"get_stock_price\":\n",
    "        return \"eligible_trade\"\n",
    "\n",
    "    # return \"no_tools\"\n",
    "    \n",
    "def route_after_tool(state: PortfolioState) -> str:\n",
    "    \"\"\"\n",
    "    Routes after the 'tools' node runs. Checks tool output message for success/failure.\n",
    "    \"\"\"\n",
    "    messages = state[\"messages\"]\n",
    "    tool_output_msg = messages[-1].content\n",
    "    ai_message = messages[-2]\n",
    "    tool_name = ai_message.tool_calls[0]['name']\n",
    "    \n",
    "    # 1. Price Check: No state update needed.\n",
    "    if tool_name == 'get_stock_price':\n",
    "        return 'chatbot'\n",
    "    \n",
    "    # 2. Failure/Decline: No state update needed.\n",
    "    if \"failed\" in tool_output_msg.lower() or \"declined\" in tool_output_msg.lower():\n",
    "        return 'chatbot'\n",
    "    \n",
    "    # 3. Success (Deposit, Approved Buy, Approved Sell): Needs state update.\n",
    "    return 'update_state' \n",
    "    "
   ],
   "id": "b5fe4cbc31be859b",
   "outputs": [
    {
     "data": {
      "image/png": "[encoded data removed]",
      "text/plain": [
       "<IPython.core.display.Image object>"
      ]
     },
     "metadata": {},
     "output_type": "display_data"
    }
   ],
   "execution_count": 19
  },
  {
   "metadata": {},
   "cell_type": "code",
   "outputs": [],
   "execution_count": null,
   "source": [
    "# --- 6. Graph Builder ---\n",
    "\n",
    "builder = StateGraph(PortfolioState)\n",
    "\n",
    "builder.add_node(\"chatbot\", chatbot_node)\n",
    "builder.add_node(\"tools\", ToolNode(tools))\n",
    "builder.add_node(\"update_state\", update_state_node)\n",
    "# The eligibility check node is for routing only, so we use an identity function.\n",
    "builder.add_node(\"check_eligibility\", lambda state: state) \n",
    "\n",
    "\n",
    "# 1. Edge from Start\n",
    "builder.add_edge(START, 'chatbot')\n",
    "\n",
    "# 2. Chatbot -> Router 1 (Initial Tool Check)\n",
    "builder.add_conditional_edges(\n",
    "    'chatbot', \n",
    "    tools_condition, \n",
    "    {\n",
    "        \"tools\": \"check_eligibility\", \n",
    "        \"__end__\": END, \n",
    "    }\n",
    ") \n",
    "\n",
    "# 3. Checker Node -> Router 2 (Eligibility Check)\n",
    "# This conditional edge calls the string-returning function to decide the path.\n",
    "builder.add_conditional_edges(\n",
    "    'check_eligibility',\n",
    "    check_transaction_eligibility, # The router function defined in Cell 6\n",
    "    {\n",
    "        # --- SUCCESS/PROCEED ROUTES (To tools node for execution/interrupt) ---\n",
    "        'eligible_trade': 'tools',\n",
    "        # 'deposit_route': 'tools',\n",
    "        # 'price_route': 'tools',\n",
    "        \n",
    "        # --- FAILURE ROUTES (To chatbot for error message) ---\n",
    "        # 'insufficient_stock': 'chatbot', \n",
    "        # 'insufficient_funds': END, \n",
    "        'error': END, \n",
    "        # 'no_tools': 'chatbot'\n",
    "    }\n",
    ")\n",
    "\n",
    "\n",
    "# 4. Tools -> Router 3 (Post-Execution Check)\n",
    "builder.add_conditional_edges('tools', route_after_tool,\n",
    "                              {\n",
    "                                  \"chatbot\": \"chatbot\",\n",
    "                                  \n",
    "                                  \"update_state\": \"update_state\",\n",
    "                              })\n",
    "\n",
    "\n",
    "# 5. Update State -> Chatbot (Loop Closure)\n",
    "builder.add_edge('update_state', 'chatbot')\n",
    "\n",
    "\n",
    "# Compile the graph\n",
    "memory = MemorySaver()\n",
    "graph = builder.compile(checkpointer=memory)\n",
    "\n",
    "display(Image(graph.get_graph().draw_mermaid_png()))"
   ],
   "id": "b97104170de88843"
  },
  {
   "metadata": {
    "ExecuteTime": {
     "end_time": "2025-10-22T12:28:07.521244Z",
     "start_time": "2025-10-22T12:27:40.010353Z"
    }
   },
   "cell_type": "code",
   "source": [
    "# --- 7. Using the agent ---\n",
    "\n",
    "config = {\"configurable\": {\"thread_id\": \"chat_thread11\"}}\n",
    "\n",
    "# --- Interactive chatbot loop ---\n",
    "state = {\"messages\": []}\n",
    "print(\"Welcome to your stock chatbot! Type 'exit' to quit.\\n\")\n",
    "\n",
    "while True:\n",
    "    user_input = input(\"You: \")\n",
    "    if user_input.lower() == \"exit\":\n",
    "        break\n",
    "\n",
    "    # Add user message\n",
    "    state[\"messages\"].append({\"role\": \"user\", \"content\": user_input})\n",
    "    # state[\"messages\"].append(HumanMessage(content=user_input))\n",
    "    \n",
    "    # Invoke the graph\n",
    "    state = graph.invoke(state, config=config)\n",
    "\n",
    "    if state.get(\"__interrupt__\"):\n",
    "        decision = input(f\"{state['__interrupt__']} (yes/no): \")\n",
    "        state = graph.invoke(Command(resume=decision), config=config)\n",
    "\n",
    "    # Print the last AI message with content (ignore empty messages)\n",
    "    # for msg in reversed(state[\"messages\"]):\n",
    "    #     if hasattr(msg, \"content\"):  # check if content exists and is not empty\n",
    "    #         if msg.content: print(f\"Agent: {msg.content}\\n\")\n",
    "    #         break\n",
    "    for msg in reversed(state[\"messages\"]):\n",
    "    # Check if the message is from the AI\n",
    "        if msg.type == \"ai\":\n",
    "            # If it has content, print it. (This skips AI messages that only contain tool calls)\n",
    "            if msg.content:\n",
    "                print(f\"Agent: {msg.content}\\n\")\n",
    "            \n",
    "            # Break after finding the *last* AI message, even if it had no content\n",
    "            break \n",
    "    \n",
    "        # If we hit the user's message first, stop. No new AI message to print.\n",
    "        if msg.type == \"human\":\n",
    "            break\n",
    "\n",
    "        "
   ],
   "id": "8a2c2b991b629d33",
   "outputs": [
    {
     "name": "stdout",
     "output_type": "stream",
     "text": [
      "Welcome to your stock chatbot! Type 'exit' to quit.\n",
      "\n",
      "getting stock price\n",
      "Agent: The current price of MSFT stock is $517.66.\n",
      "\n"
     ]
    }
   ],
   "execution_count": 25
  },
  {
   "metadata": {},
   "cell_type": "code",
   "outputs": [],
   "execution_count": null,
   "source": "",
   "id": "84cc2ce6dae65842"
  }
 ],
 "metadata": {
  "kernelspec": {
   "display_name": "Python 3",
   "language": "python",
   "name": "python3"
  },
  "language_info": {
   "codemirror_mode": {
    "name": "ipython",
    "version": 2
   },
   "file_extension": ".py",
   "mimetype": "text/x-python",
   "name": "python",
   "nbconvert_exporter": "python",
   "pygments_lexer": "ipython2",
   "version": "2.7.6"
  }
 },
 "nbformat": 4,
 "nbformat_minor": 5
}
