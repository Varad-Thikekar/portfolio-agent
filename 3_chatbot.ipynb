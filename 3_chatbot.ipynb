{
 "cells": [
  {
   "cell_type": "code",
   "id": "initial_id",
   "metadata": {
    "collapsed": true,
    "ExecuteTime": {
     "end_time": "2025-10-05T23:17:53.512574Z",
     "start_time": "2025-10-05T23:17:53.507272Z"
    }
   },
   "source": [
    "from dotenv import load_dotenv\n",
    "load_dotenv() # this will set the Google API key as an environment variable from .env file\n",
    "\n",
    "from typing import TypedDict\n",
    "from langgraph.graph import StateGraph, START, END\n",
    "from langgraph.graph.message import add_messages \n",
    "from typing import Annotated"
   ],
   "outputs": [],
   "execution_count": 9
  },
  {
   "metadata": {
    "ExecuteTime": {
     "end_time": "2025-10-05T22:42:11.026123Z",
     "start_time": "2025-10-05T22:42:10.541755Z"
    }
   },
   "cell_type": "code",
   "source": [
    "from langchain.chat_models import init_chat_model\n",
    "# using langchain to create an application that uses a conversational LLM"
   ],
   "id": "e6f8355aed98ff7",
   "outputs": [],
   "execution_count": 2
  },
  {
   "metadata": {
    "ExecuteTime": {
     "end_time": "2025-10-05T23:17:55.865873Z",
     "start_time": "2025-10-05T23:17:55.856830Z"
    }
   },
   "cell_type": "code",
   "source": [
    "# create a llm by calling this chat model\n",
    "llm = init_chat_model('google_genai:gemini-2.0-flash')\n",
    "\n",
    "# llm.invoke('who was the first person to walk the moon?')\n",
    "\n",
    "class State(TypedDict):\n",
    "    # messages: list #exchanging messages so a list to store the history, but this doesnt give the conversation format\n",
    "    messages: Annotated[list, add_messages] # this will preserve the original message, add_messages is builtin in langgraph\n",
    "    \n",
    "\n",
    "def chatbot(state: State) -> State:\n",
    "    return {'messages': [llm.invoke(state['messages'])]}\n",
    "\n",
    "builder = StateGraph(State)\n",
    "builder.add_node('chatbot_node', chatbot)\n",
    "\n",
    "builder.add_edge(START, 'chatbot_node')\n",
    "builder.add_edge('chatbot_node', END)\n",
    "\n",
    "graph = builder.compile()"
   ],
   "id": "b065ba0f8a1d5bbd",
   "outputs": [
    {
     "name": "stderr",
     "output_type": "stream",
     "text": [
      "E0000 00:00:1759706275.862611  335594 alts_credentials.cc:93] ALTS creds ignored. Not running on GCP and untrusted ALTS is not enabled.\n"
     ]
    }
   ],
   "execution_count": 10
  },
  {
   "metadata": {
    "ExecuteTime": {
     "end_time": "2025-10-05T23:18:09.095613Z",
     "start_time": "2025-10-05T23:18:08.546934Z"
    }
   },
   "cell_type": "code",
   "source": [
    "message = {'role':'user', 'content':'Who walked on the moon for the first time? print only the name'}\n",
    "response = graph.invoke({'messages':[message]})\n",
    "\n",
    "response['messages']"
   ],
   "id": "4f89f88d7cc54422",
   "outputs": [
    {
     "data": {
      "text/plain": [
       "[HumanMessage(content='Who walked on the moon for the first time? print only the name', additional_kwargs={}, response_metadata={}, id='11380e84-bae4-4575-8359-21821cba021f'),\n",
       " AIMessage(content='Neil Armstrong', additional_kwargs={}, response_metadata={'prompt_feedback': {'block_reason': 0, 'safety_ratings': []}, 'finish_reason': 'STOP', 'model_name': 'gemini-2.0-flash', 'safety_ratings': []}, id='run--a8ca4946-7563-4c01-8838-372baeeef2a2-0', usage_metadata={'input_tokens': 14, 'output_tokens': 3, 'total_tokens': 17, 'input_token_details': {'cache_read': 0}})]"
      ]
     },
     "execution_count": 11,
     "metadata": {},
     "output_type": "execute_result"
    }
   ],
   "execution_count": 11
  },
  {
   "metadata": {
    "ExecuteTime": {
     "end_time": "2025-10-05T23:30:36.960555Z",
     "start_time": "2025-10-05T23:30:15.862347Z"
    }
   },
   "cell_type": "code",
   "source": [
    "# This method of storing messages in a list works but we might run into issues. Langgraph offers a build-in method to have memory\n",
    "state = None\n",
    "while True:\n",
    "    in_message = input(\"You: \")\n",
    "    if in_message.lower() in {\"quit\", \"exit\"}:\n",
    "        break\n",
    "    if state is None:\n",
    "        state: State = { \n",
    "            \"messages\": [{\"role\": \"user\", \"content\": in_message}]\n",
    "        }\n",
    "    else:\n",
    "        state [\"messages\"].append({\"role\": \"user\", \"content\": in_message})\n",
    "        \n",
    "state = graph.invoke(state)\n",
    "print(\"Bot:\", state [\"messages\"] [-1].content)"
   ],
   "id": "49cb386ed4622527",
   "outputs": [
    {
     "name": "stderr",
     "output_type": "stream",
     "text": [
      "/Users/varadthikekar/PycharmProjects/LangGraph learning/.venv/lib/python3.12/site-packages/langchain_google_genai/chat_models.py:2007: UserWarning: HumanMessage with empty content was removed to prevent API error\n",
      "  warnings.warn(\n"
     ]
    },
    {
     "name": "stdout",
     "output_type": "stream",
     "text": [
      "Bot: The first man to walk on the Moon was **Neil Armstrong**.\n",
      "\n",
      "The year he walked on the Moon was **1969**.\n"
     ]
    }
   ],
   "execution_count": 12
  },
  {
   "metadata": {},
   "cell_type": "code",
   "outputs": [],
   "execution_count": null,
   "source": "",
   "id": "7f1eecbcda0c448c"
  }
 ],
 "metadata": {
  "kernelspec": {
   "display_name": "Python 3",
   "language": "python",
   "name": "python3"
  },
  "language_info": {
   "codemirror_mode": {
    "name": "ipython",
    "version": 2
   },
   "file_extension": ".py",
   "mimetype": "text/x-python",
   "name": "python",
   "nbconvert_exporter": "python",
   "pygments_lexer": "ipython2",
   "version": "2.7.6"
  }
 },
 "nbformat": 4,
 "nbformat_minor": 5
}
